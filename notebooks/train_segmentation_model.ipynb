{
 "cells": [
  {
   "cell_type": "code",
   "execution_count": 1,
   "metadata": {
    "collapsed": true
   },
   "outputs": [],
   "source": [
    "import sys\n",
    "sys.path.append(\"..\")"
   ]
  },
  {
   "cell_type": "code",
   "execution_count": 2,
   "metadata": {},
   "outputs": [],
   "source": [
    "import os\n",
    "from models.segmentation_model import SegmentationModel\n",
    "import tensorflow as tf\n",
    "import numpy as np"
   ]
  },
  {
   "cell_type": "markdown",
   "metadata": {},
   "source": [
    "# Define parametes"
   ]
  },
  {
   "cell_type": "code",
   "execution_count": 3,
   "metadata": {
    "collapsed": true
   },
   "outputs": [],
   "source": [
    "# train_parameters = {\n",
    "#     \"lr\": 0.001,\n",
    "#     \"decay_steps\": 400,\n",
    "#     \"decay_rate\": 0.95,\n",
    "#     \"batch_size\": 16\n",
    "# }\n",
    "\n",
    "# model_parameters = {\n",
    "#     \"num_conv_layers\": 4,\n",
    "#     \"conv_num_filters\": 128,\n",
    "#     \"conv_kernel_size\": [5, 9],\n",
    "#     \"dropout_prob\": 0.05,\n",
    "#     \"num_bidirectional_units\": 512,\n",
    "#     \"num_bidirectional_layers\": 4,\n",
    "#     \"num_beams\": 50\n",
    "# }\n",
    "\n",
    "# output_vocab_size= 50 # TODO: Define\n",
    "\n",
    "\n",
    "# num_steps = 2\n",
    "\n",
    "# save_energy = 2\n",
    "\n",
    "# n_mels = 20\n",
    "\n",
    "train_parameters = {\n",
    "    \"lr\": 0.001,\n",
    "    \"decay_steps\": 400,\n",
    "    \"decay_rate\": 0.95\n",
    "}\n",
    "\n",
    "model_parameters = {\n",
    "    \"num_conv_layers\": 2,\n",
    "    \"conv_num_filters\": 16,\n",
    "    \"conv_kernel_size\": [2, 2],\n",
    "    \"dropout_prob\": 0.05,\n",
    "    \"num_bidirectional_units\": 16,\n",
    "    \"num_bidirectional_layers\": 2,\n",
    "    \"num_beams\": 2\n",
    "}\n",
    "\n",
    "output_vocab_size= 50 # TODO: Define\n",
    "\n",
    "\n",
    "num_steps = 2\n",
    "\n",
    "save_energy = 2\n",
    "\n",
    "n_mels = 20"
   ]
  },
  {
   "cell_type": "markdown",
   "metadata": {},
   "source": [
    "# Train model"
   ]
  },
  {
   "cell_type": "code",
   "execution_count": 4,
   "metadata": {},
   "outputs": [
    {
     "name": "stdout",
     "output_type": "stream",
     "text": [
      "1\n",
      "24.7928\n",
      "([SparseTensorValue(indices=array([[0, 0],\n",
      "       [0, 1],\n",
      "       [0, 2],\n",
      "       [0, 3],\n",
      "       [1, 0],\n",
      "       [1, 1],\n",
      "       [1, 2]]), values=array([29, 19, 19, 46, 15, 19, 42]), dense_shape=array([2, 4]))], array([[-2.50458431],\n",
      "       [-3.35353732]], dtype=float32))\n",
      "([SparseTensorValue(indices=array([[0, 0],\n",
      "       [0, 1],\n",
      "       [0, 2],\n",
      "       [1, 0],\n",
      "       [1, 1],\n",
      "       [1, 2]]), values=array([19, 11, 19, 19, 34, 19]), dense_shape=array([2, 3]))], array([[ 5.36759949],\n",
      "       [ 5.49857426]], dtype=float32))\n",
      "2\n",
      "24.6569\n",
      "([SparseTensorValue(indices=array([[0, 0],\n",
      "       [0, 1],\n",
      "       [1, 0],\n",
      "       [1, 1],\n",
      "       [1, 2]]), values=array([42, 19, 34, 19, 24]), dense_shape=array([2, 3]))], array([[-2.87356925],\n",
      "       [-3.04589844]], dtype=float32))\n",
      "([SparseTensorValue(indices=array([[0, 0],\n",
      "       [0, 1],\n",
      "       [0, 2],\n",
      "       [1, 0],\n",
      "       [1, 1],\n",
      "       [1, 2]]), values=array([16, 19, 34, 11, 19, 34]), dense_shape=array([2, 3]))], array([[ 5.54832935],\n",
      "       [ 5.42394257]], dtype=float32))\n",
      "saving weights\n"
     ]
    }
   ],
   "source": [
    "with tf.Session() as sess:\n",
    "    inputs = tf.placeholder(tf.float32, [None, None, n_mels])\n",
    "    targets = tf.sparse_placeholder(tf.int32)\n",
    "    seq_len = tf.placeholder(tf.int32, [None])\n",
    "\n",
    "    model = SegmentationModel(\n",
    "        inputs, seq_len,\n",
    "        output_vocab_size, model_parameters,\n",
    "        targets, train_parameters\n",
    "    )\n",
    "\n",
    "    train_writer = tf.summary.FileWriter('../log/train_grapheme_to_phoneme_model_notebook/train', sess.graph)\n",
    "    \n",
    "    tf.global_variables_initializer().run()\n",
    "    coord = tf.train.Coordinator()\n",
    "    threads = tf.train.start_queue_runners(sess=sess, coord=coord)\n",
    "\n",
    "    saver = tf.train.Saver(max_to_keep=3, keep_checkpoint_every_n_hours=3)\n",
    "    \n",
    "    for _ in xrange(num_steps):\n",
    "        \n",
    "        target_indices=[[0, 0], [0, 1], [0, 2], [1, 0], [1, 1], [1, 2]]\n",
    "        target_values=[1, 2, 3, 4, 5, 6]\n",
    "        dense_shape=[2, 4]\n",
    "        \n",
    "        out = sess.run([\n",
    "            model.train_op,\n",
    "            model.global_step,\n",
    "            model.loss,\n",
    "            model.summary,\n",
    "            model.training_output,\n",
    "            model.prediction\n",
    "        ], feed_dict={inputs: np.random.rand(2, 10, 20), seq_len: 8* np.ones(2), targets:(target_indices,target_values, dense_shape)})\n",
    "        _, global_step, loss, summary, training_output, prediction  = out\n",
    "        \n",
    "        print global_step\n",
    "        print loss\n",
    "        print training_output\n",
    "        print prediction\n",
    "\n",
    "        train_writer.add_summary(summary, global_step)\n",
    "\n",
    "        # detect gradient explosion\n",
    "        if loss > 1e8 and global_step > 500:\n",
    "            print('loss exploded')\n",
    "            break\n",
    "\n",
    "        if global_step % save_energy == 0 and global_step != 0:\n",
    "\n",
    "            print('saving weights')\n",
    "            if not os.path.exists('../weights/train_grapheme_to_phoneme_model_notebook/'):\n",
    "                os.makedirs('../weights/train_grapheme_to_phoneme_model_notebook/')\n",
    "            saver.save(sess, '../weights/train_grapheme_to_phoneme_model_notebook/', global_step=global_step)\n",
    "    \n",
    "    coord.request_stop()\n",
    "    coord.join(threads)"
   ]
  },
  {
   "cell_type": "code",
   "execution_count": null,
   "metadata": {
    "collapsed": true
   },
   "outputs": [],
   "source": []
  },
  {
   "cell_type": "code",
   "execution_count": null,
   "metadata": {
    "collapsed": true
   },
   "outputs": [],
   "source": []
  }
 ],
 "metadata": {
  "kernelspec": {
   "display_name": "Python 2",
   "language": "python",
   "name": "python2"
  },
  "language_info": {
   "codemirror_mode": {
    "name": "ipython",
    "version": 2
   },
   "file_extension": ".py",
   "mimetype": "text/x-python",
   "name": "python",
   "nbconvert_exporter": "python",
   "pygments_lexer": "ipython2",
   "version": "2.7.13"
  }
 },
 "nbformat": 4,
 "nbformat_minor": 2
}
