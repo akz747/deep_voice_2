{
 "cells": [
  {
   "cell_type": "code",
   "execution_count": 1,
   "metadata": {
    "collapsed": true
   },
   "outputs": [],
   "source": [
    "import sys\n",
    "sys.path.append(\"..\")"
   ]
  },
  {
   "cell_type": "code",
   "execution_count": 2,
   "metadata": {},
   "outputs": [],
   "source": [
    "import os\n",
    "from models.segmentation_model import SegmentationModel\n",
    "import tensorflow as tf\n",
    "import numpy as np"
   ]
  },
  {
   "cell_type": "markdown",
   "metadata": {},
   "source": [
    "# Define parametes"
   ]
  },
  {
   "cell_type": "code",
   "execution_count": 3,
   "metadata": {},
   "outputs": [],
   "source": [
    "train_parameters = {\n",
    "    \"lr\": 0.001,\n",
    "    \"decay_steps\": 400,\n",
    "    \"decay_rate\": 0.95,\n",
    "    \"dropout_prob\": 0.05\n",
    "}\n",
    "\n",
    "model_parameters = {\n",
    "    \"speaker_embedding_size\": 16,\n",
    "    \"num_conv_layers\": 2,\n",
    "    \"conv_num_filters\": 8,\n",
    "    \"conv_kernel_size\": [2, 2],\n",
    "    \"num_bidirectional_units\": 16,\n",
    "    \"num_bidirectional_layers\": 2,\n",
    "}\n",
    "\n",
    "output_vocab_size= 50\n",
    "num_speakers = 10\n",
    "num_steps = 2\n",
    "save_energy = 2\n",
    "n_mels = 20\n",
    "num_beams = 2"
   ]
  },
  {
   "cell_type": "markdown",
   "metadata": {},
   "source": [
    "# Train model"
   ]
  },
  {
   "cell_type": "code",
   "execution_count": 4,
   "metadata": {},
   "outputs": [
    {
     "ename": "InvalidArgumentError",
     "evalue": "Incompatible shapes: [2,10,20,8] vs. [2,8]\n\t [[Node: encoder/conv_layers/conv_layer_1/mul = Mul[T=DT_FLOAT, _device=\"/job:localhost/replica:0/task:0/cpu:0\"](encoder/conv_layers/conv_layer_1/bn/batchnorm/add_1, encoder/dense/Softsign)]]\n\nCaused by op u'encoder/conv_layers/conv_layer_1/mul', defined at:\n  File \"/Users/josebermeo/miniconda2/envs/deep_voice_2/lib/python2.7/runpy.py\", line 174, in _run_module_as_main\n    \"__main__\", fname, loader, pkg_name)\n  File \"/Users/josebermeo/miniconda2/envs/deep_voice_2/lib/python2.7/runpy.py\", line 72, in _run_code\n    exec code in run_globals\n  File \"/Users/josebermeo/miniconda2/envs/deep_voice_2/lib/python2.7/site-packages/ipykernel_launcher.py\", line 16, in <module>\n    app.launch_new_instance()\n  File \"/Users/josebermeo/miniconda2/envs/deep_voice_2/lib/python2.7/site-packages/traitlets/config/application.py\", line 658, in launch_instance\n    app.start()\n  File \"/Users/josebermeo/miniconda2/envs/deep_voice_2/lib/python2.7/site-packages/ipykernel/kernelapp.py\", line 477, in start\n    ioloop.IOLoop.instance().start()\n  File \"/Users/josebermeo/miniconda2/envs/deep_voice_2/lib/python2.7/site-packages/zmq/eventloop/ioloop.py\", line 177, in start\n    super(ZMQIOLoop, self).start()\n  File \"/Users/josebermeo/miniconda2/envs/deep_voice_2/lib/python2.7/site-packages/tornado/ioloop.py\", line 888, in start\n    handler_func(fd_obj, events)\n  File \"/Users/josebermeo/miniconda2/envs/deep_voice_2/lib/python2.7/site-packages/tornado/stack_context.py\", line 277, in null_wrapper\n    return fn(*args, **kwargs)\n  File \"/Users/josebermeo/miniconda2/envs/deep_voice_2/lib/python2.7/site-packages/zmq/eventloop/zmqstream.py\", line 440, in _handle_events\n    self._handle_recv()\n  File \"/Users/josebermeo/miniconda2/envs/deep_voice_2/lib/python2.7/site-packages/zmq/eventloop/zmqstream.py\", line 472, in _handle_recv\n    self._run_callback(callback, msg)\n  File \"/Users/josebermeo/miniconda2/envs/deep_voice_2/lib/python2.7/site-packages/zmq/eventloop/zmqstream.py\", line 414, in _run_callback\n    callback(*args, **kwargs)\n  File \"/Users/josebermeo/miniconda2/envs/deep_voice_2/lib/python2.7/site-packages/tornado/stack_context.py\", line 277, in null_wrapper\n    return fn(*args, **kwargs)\n  File \"/Users/josebermeo/miniconda2/envs/deep_voice_2/lib/python2.7/site-packages/ipykernel/kernelbase.py\", line 283, in dispatcher\n    return self.dispatch_shell(stream, msg)\n  File \"/Users/josebermeo/miniconda2/envs/deep_voice_2/lib/python2.7/site-packages/ipykernel/kernelbase.py\", line 235, in dispatch_shell\n    handler(stream, idents, msg)\n  File \"/Users/josebermeo/miniconda2/envs/deep_voice_2/lib/python2.7/site-packages/ipykernel/kernelbase.py\", line 399, in execute_request\n    user_expressions, allow_stdin)\n  File \"/Users/josebermeo/miniconda2/envs/deep_voice_2/lib/python2.7/site-packages/ipykernel/ipkernel.py\", line 196, in do_execute\n    res = shell.run_cell(code, store_history=store_history, silent=silent)\n  File \"/Users/josebermeo/miniconda2/envs/deep_voice_2/lib/python2.7/site-packages/ipykernel/zmqshell.py\", line 533, in run_cell\n    return super(ZMQInteractiveShell, self).run_cell(*args, **kwargs)\n  File \"/Users/josebermeo/miniconda2/envs/deep_voice_2/lib/python2.7/site-packages/IPython/core/interactiveshell.py\", line 2717, in run_cell\n    interactivity=interactivity, compiler=compiler, result=result)\n  File \"/Users/josebermeo/miniconda2/envs/deep_voice_2/lib/python2.7/site-packages/IPython/core/interactiveshell.py\", line 2821, in run_ast_nodes\n    if self.run_code(code, result):\n  File \"/Users/josebermeo/miniconda2/envs/deep_voice_2/lib/python2.7/site-packages/IPython/core/interactiveshell.py\", line 2881, in run_code\n    exec(code_obj, self.user_global_ns, self.user_ns)\n  File \"<ipython-input-4-5d1ae7789734>\", line 17, in <module>\n    train_parameters\n  File \"../models/segmentation_model.py\", line 22, in build_train_operations\n    reuse\n  File \"../models/segmentation_model.py\", line 122, in __build_encoder\n    ), scope='bn', is_training=is_training) * speaker_embedding_projection + output\n  File \"/Users/josebermeo/miniconda2/envs/deep_voice_2/lib/python2.7/site-packages/tensorflow/python/ops/math_ops.py\", line 865, in binary_op_wrapper\n    return func(x, y, name=name)\n  File \"/Users/josebermeo/miniconda2/envs/deep_voice_2/lib/python2.7/site-packages/tensorflow/python/ops/math_ops.py\", line 1088, in _mul_dispatch\n    return gen_math_ops._mul(x, y, name=name)\n  File \"/Users/josebermeo/miniconda2/envs/deep_voice_2/lib/python2.7/site-packages/tensorflow/python/ops/gen_math_ops.py\", line 1449, in _mul\n    result = _op_def_lib.apply_op(\"Mul\", x=x, y=y, name=name)\n  File \"/Users/josebermeo/miniconda2/envs/deep_voice_2/lib/python2.7/site-packages/tensorflow/python/framework/op_def_library.py\", line 767, in apply_op\n    op_def=op_def)\n  File \"/Users/josebermeo/miniconda2/envs/deep_voice_2/lib/python2.7/site-packages/tensorflow/python/framework/ops.py\", line 2630, in create_op\n    original_op=self._default_original_op, op_def=op_def)\n  File \"/Users/josebermeo/miniconda2/envs/deep_voice_2/lib/python2.7/site-packages/tensorflow/python/framework/ops.py\", line 1204, in __init__\n    self._traceback = self._graph._extract_stack()  # pylint: disable=protected-access\n\nInvalidArgumentError (see above for traceback): Incompatible shapes: [2,10,20,8] vs. [2,8]\n\t [[Node: encoder/conv_layers/conv_layer_1/mul = Mul[T=DT_FLOAT, _device=\"/job:localhost/replica:0/task:0/cpu:0\"](encoder/conv_layers/conv_layer_1/bn/batchnorm/add_1, encoder/dense/Softsign)]]\n",
     "output_type": "error",
     "traceback": [
      "\u001b[0;31m---------------------------------------------------------------------------\u001b[0m",
      "\u001b[0;31mInvalidArgumentError\u001b[0m                      Traceback (most recent call last)",
      "\u001b[0;32m<ipython-input-4-5d1ae7789734>\u001b[0m in \u001b[0;36m<module>\u001b[0;34m()\u001b[0m\n\u001b[1;32m     54\u001b[0m             \u001b[0mfrequencies_seq_len\u001b[0m\u001b[0;34m:\u001b[0m \u001b[0;36m8\u001b[0m\u001b[0;34m*\u001b[0m \u001b[0mnp\u001b[0m\u001b[0;34m.\u001b[0m\u001b[0mones\u001b[0m\u001b[0;34m(\u001b[0m\u001b[0;36m2\u001b[0m\u001b[0;34m)\u001b[0m\u001b[0;34m,\u001b[0m\u001b[0;34m\u001b[0m\u001b[0m\n\u001b[1;32m     55\u001b[0m             \u001b[0mspeaker_ids\u001b[0m\u001b[0;34m:\u001b[0m \u001b[0;36m2\u001b[0m \u001b[0;34m*\u001b[0m \u001b[0mnp\u001b[0m\u001b[0;34m.\u001b[0m\u001b[0mones\u001b[0m\u001b[0;34m(\u001b[0m\u001b[0;34m(\u001b[0m\u001b[0;36m2\u001b[0m\u001b[0;34m)\u001b[0m\u001b[0;34m)\u001b[0m\u001b[0;34m,\u001b[0m\u001b[0;34m\u001b[0m\u001b[0m\n\u001b[0;32m---> 56\u001b[0;31m             \u001b[0mphonemes\u001b[0m\u001b[0;34m:\u001b[0m\u001b[0;34m(\u001b[0m\u001b[0mtarget_indices\u001b[0m\u001b[0;34m,\u001b[0m\u001b[0mtarget_values\u001b[0m\u001b[0;34m,\u001b[0m \u001b[0mdense_shape\u001b[0m\u001b[0;34m)\u001b[0m\u001b[0;34m\u001b[0m\u001b[0m\n\u001b[0m\u001b[1;32m     57\u001b[0m         })\n\u001b[1;32m     58\u001b[0m \u001b[0;34m\u001b[0m\u001b[0m\n",
      "\u001b[0;32m/Users/josebermeo/miniconda2/envs/deep_voice_2/lib/python2.7/site-packages/tensorflow/python/client/session.pyc\u001b[0m in \u001b[0;36mrun\u001b[0;34m(self, fetches, feed_dict, options, run_metadata)\u001b[0m\n\u001b[1;32m    893\u001b[0m     \u001b[0;32mtry\u001b[0m\u001b[0;34m:\u001b[0m\u001b[0;34m\u001b[0m\u001b[0m\n\u001b[1;32m    894\u001b[0m       result = self._run(None, fetches, feed_dict, options_ptr,\n\u001b[0;32m--> 895\u001b[0;31m                          run_metadata_ptr)\n\u001b[0m\u001b[1;32m    896\u001b[0m       \u001b[0;32mif\u001b[0m \u001b[0mrun_metadata\u001b[0m\u001b[0;34m:\u001b[0m\u001b[0;34m\u001b[0m\u001b[0m\n\u001b[1;32m    897\u001b[0m         \u001b[0mproto_data\u001b[0m \u001b[0;34m=\u001b[0m \u001b[0mtf_session\u001b[0m\u001b[0;34m.\u001b[0m\u001b[0mTF_GetBuffer\u001b[0m\u001b[0;34m(\u001b[0m\u001b[0mrun_metadata_ptr\u001b[0m\u001b[0;34m)\u001b[0m\u001b[0;34m\u001b[0m\u001b[0m\n",
      "\u001b[0;32m/Users/josebermeo/miniconda2/envs/deep_voice_2/lib/python2.7/site-packages/tensorflow/python/client/session.pyc\u001b[0m in \u001b[0;36m_run\u001b[0;34m(self, handle, fetches, feed_dict, options, run_metadata)\u001b[0m\n\u001b[1;32m   1122\u001b[0m     \u001b[0;32mif\u001b[0m \u001b[0mfinal_fetches\u001b[0m \u001b[0;32mor\u001b[0m \u001b[0mfinal_targets\u001b[0m \u001b[0;32mor\u001b[0m \u001b[0;34m(\u001b[0m\u001b[0mhandle\u001b[0m \u001b[0;32mand\u001b[0m \u001b[0mfeed_dict_tensor\u001b[0m\u001b[0;34m)\u001b[0m\u001b[0;34m:\u001b[0m\u001b[0;34m\u001b[0m\u001b[0m\n\u001b[1;32m   1123\u001b[0m       results = self._do_run(handle, final_targets, final_fetches,\n\u001b[0;32m-> 1124\u001b[0;31m                              feed_dict_tensor, options, run_metadata)\n\u001b[0m\u001b[1;32m   1125\u001b[0m     \u001b[0;32melse\u001b[0m\u001b[0;34m:\u001b[0m\u001b[0;34m\u001b[0m\u001b[0m\n\u001b[1;32m   1126\u001b[0m       \u001b[0mresults\u001b[0m \u001b[0;34m=\u001b[0m \u001b[0;34m[\u001b[0m\u001b[0;34m]\u001b[0m\u001b[0;34m\u001b[0m\u001b[0m\n",
      "\u001b[0;32m/Users/josebermeo/miniconda2/envs/deep_voice_2/lib/python2.7/site-packages/tensorflow/python/client/session.pyc\u001b[0m in \u001b[0;36m_do_run\u001b[0;34m(self, handle, target_list, fetch_list, feed_dict, options, run_metadata)\u001b[0m\n\u001b[1;32m   1319\u001b[0m     \u001b[0;32mif\u001b[0m \u001b[0mhandle\u001b[0m \u001b[0;32mis\u001b[0m \u001b[0mNone\u001b[0m\u001b[0;34m:\u001b[0m\u001b[0;34m\u001b[0m\u001b[0m\n\u001b[1;32m   1320\u001b[0m       return self._do_call(_run_fn, self._session, feeds, fetches, targets,\n\u001b[0;32m-> 1321\u001b[0;31m                            options, run_metadata)\n\u001b[0m\u001b[1;32m   1322\u001b[0m     \u001b[0;32melse\u001b[0m\u001b[0;34m:\u001b[0m\u001b[0;34m\u001b[0m\u001b[0m\n\u001b[1;32m   1323\u001b[0m       \u001b[0;32mreturn\u001b[0m \u001b[0mself\u001b[0m\u001b[0;34m.\u001b[0m\u001b[0m_do_call\u001b[0m\u001b[0;34m(\u001b[0m\u001b[0m_prun_fn\u001b[0m\u001b[0;34m,\u001b[0m \u001b[0mself\u001b[0m\u001b[0;34m.\u001b[0m\u001b[0m_session\u001b[0m\u001b[0;34m,\u001b[0m \u001b[0mhandle\u001b[0m\u001b[0;34m,\u001b[0m \u001b[0mfeeds\u001b[0m\u001b[0;34m,\u001b[0m \u001b[0mfetches\u001b[0m\u001b[0;34m)\u001b[0m\u001b[0;34m\u001b[0m\u001b[0m\n",
      "\u001b[0;32m/Users/josebermeo/miniconda2/envs/deep_voice_2/lib/python2.7/site-packages/tensorflow/python/client/session.pyc\u001b[0m in \u001b[0;36m_do_call\u001b[0;34m(self, fn, *args)\u001b[0m\n\u001b[1;32m   1338\u001b[0m         \u001b[0;32mexcept\u001b[0m \u001b[0mKeyError\u001b[0m\u001b[0;34m:\u001b[0m\u001b[0;34m\u001b[0m\u001b[0m\n\u001b[1;32m   1339\u001b[0m           \u001b[0;32mpass\u001b[0m\u001b[0;34m\u001b[0m\u001b[0m\n\u001b[0;32m-> 1340\u001b[0;31m       \u001b[0;32mraise\u001b[0m \u001b[0mtype\u001b[0m\u001b[0;34m(\u001b[0m\u001b[0me\u001b[0m\u001b[0;34m)\u001b[0m\u001b[0;34m(\u001b[0m\u001b[0mnode_def\u001b[0m\u001b[0;34m,\u001b[0m \u001b[0mop\u001b[0m\u001b[0;34m,\u001b[0m \u001b[0mmessage\u001b[0m\u001b[0;34m)\u001b[0m\u001b[0;34m\u001b[0m\u001b[0m\n\u001b[0m\u001b[1;32m   1341\u001b[0m \u001b[0;34m\u001b[0m\u001b[0m\n\u001b[1;32m   1342\u001b[0m   \u001b[0;32mdef\u001b[0m \u001b[0m_extend_graph\u001b[0m\u001b[0;34m(\u001b[0m\u001b[0mself\u001b[0m\u001b[0;34m)\u001b[0m\u001b[0;34m:\u001b[0m\u001b[0;34m\u001b[0m\u001b[0m\n",
      "\u001b[0;31mInvalidArgumentError\u001b[0m: Incompatible shapes: [2,10,20,8] vs. [2,8]\n\t [[Node: encoder/conv_layers/conv_layer_1/mul = Mul[T=DT_FLOAT, _device=\"/job:localhost/replica:0/task:0/cpu:0\"](encoder/conv_layers/conv_layer_1/bn/batchnorm/add_1, encoder/dense/Softsign)]]\n\nCaused by op u'encoder/conv_layers/conv_layer_1/mul', defined at:\n  File \"/Users/josebermeo/miniconda2/envs/deep_voice_2/lib/python2.7/runpy.py\", line 174, in _run_module_as_main\n    \"__main__\", fname, loader, pkg_name)\n  File \"/Users/josebermeo/miniconda2/envs/deep_voice_2/lib/python2.7/runpy.py\", line 72, in _run_code\n    exec code in run_globals\n  File \"/Users/josebermeo/miniconda2/envs/deep_voice_2/lib/python2.7/site-packages/ipykernel_launcher.py\", line 16, in <module>\n    app.launch_new_instance()\n  File \"/Users/josebermeo/miniconda2/envs/deep_voice_2/lib/python2.7/site-packages/traitlets/config/application.py\", line 658, in launch_instance\n    app.start()\n  File \"/Users/josebermeo/miniconda2/envs/deep_voice_2/lib/python2.7/site-packages/ipykernel/kernelapp.py\", line 477, in start\n    ioloop.IOLoop.instance().start()\n  File \"/Users/josebermeo/miniconda2/envs/deep_voice_2/lib/python2.7/site-packages/zmq/eventloop/ioloop.py\", line 177, in start\n    super(ZMQIOLoop, self).start()\n  File \"/Users/josebermeo/miniconda2/envs/deep_voice_2/lib/python2.7/site-packages/tornado/ioloop.py\", line 888, in start\n    handler_func(fd_obj, events)\n  File \"/Users/josebermeo/miniconda2/envs/deep_voice_2/lib/python2.7/site-packages/tornado/stack_context.py\", line 277, in null_wrapper\n    return fn(*args, **kwargs)\n  File \"/Users/josebermeo/miniconda2/envs/deep_voice_2/lib/python2.7/site-packages/zmq/eventloop/zmqstream.py\", line 440, in _handle_events\n    self._handle_recv()\n  File \"/Users/josebermeo/miniconda2/envs/deep_voice_2/lib/python2.7/site-packages/zmq/eventloop/zmqstream.py\", line 472, in _handle_recv\n    self._run_callback(callback, msg)\n  File \"/Users/josebermeo/miniconda2/envs/deep_voice_2/lib/python2.7/site-packages/zmq/eventloop/zmqstream.py\", line 414, in _run_callback\n    callback(*args, **kwargs)\n  File \"/Users/josebermeo/miniconda2/envs/deep_voice_2/lib/python2.7/site-packages/tornado/stack_context.py\", line 277, in null_wrapper\n    return fn(*args, **kwargs)\n  File \"/Users/josebermeo/miniconda2/envs/deep_voice_2/lib/python2.7/site-packages/ipykernel/kernelbase.py\", line 283, in dispatcher\n    return self.dispatch_shell(stream, msg)\n  File \"/Users/josebermeo/miniconda2/envs/deep_voice_2/lib/python2.7/site-packages/ipykernel/kernelbase.py\", line 235, in dispatch_shell\n    handler(stream, idents, msg)\n  File \"/Users/josebermeo/miniconda2/envs/deep_voice_2/lib/python2.7/site-packages/ipykernel/kernelbase.py\", line 399, in execute_request\n    user_expressions, allow_stdin)\n  File \"/Users/josebermeo/miniconda2/envs/deep_voice_2/lib/python2.7/site-packages/ipykernel/ipkernel.py\", line 196, in do_execute\n    res = shell.run_cell(code, store_history=store_history, silent=silent)\n  File \"/Users/josebermeo/miniconda2/envs/deep_voice_2/lib/python2.7/site-packages/ipykernel/zmqshell.py\", line 533, in run_cell\n    return super(ZMQInteractiveShell, self).run_cell(*args, **kwargs)\n  File \"/Users/josebermeo/miniconda2/envs/deep_voice_2/lib/python2.7/site-packages/IPython/core/interactiveshell.py\", line 2717, in run_cell\n    interactivity=interactivity, compiler=compiler, result=result)\n  File \"/Users/josebermeo/miniconda2/envs/deep_voice_2/lib/python2.7/site-packages/IPython/core/interactiveshell.py\", line 2821, in run_ast_nodes\n    if self.run_code(code, result):\n  File \"/Users/josebermeo/miniconda2/envs/deep_voice_2/lib/python2.7/site-packages/IPython/core/interactiveshell.py\", line 2881, in run_code\n    exec(code_obj, self.user_global_ns, self.user_ns)\n  File \"<ipython-input-4-5d1ae7789734>\", line 17, in <module>\n    train_parameters\n  File \"../models/segmentation_model.py\", line 22, in build_train_operations\n    reuse\n  File \"../models/segmentation_model.py\", line 122, in __build_encoder\n    ), scope='bn', is_training=is_training) * speaker_embedding_projection + output\n  File \"/Users/josebermeo/miniconda2/envs/deep_voice_2/lib/python2.7/site-packages/tensorflow/python/ops/math_ops.py\", line 865, in binary_op_wrapper\n    return func(x, y, name=name)\n  File \"/Users/josebermeo/miniconda2/envs/deep_voice_2/lib/python2.7/site-packages/tensorflow/python/ops/math_ops.py\", line 1088, in _mul_dispatch\n    return gen_math_ops._mul(x, y, name=name)\n  File \"/Users/josebermeo/miniconda2/envs/deep_voice_2/lib/python2.7/site-packages/tensorflow/python/ops/gen_math_ops.py\", line 1449, in _mul\n    result = _op_def_lib.apply_op(\"Mul\", x=x, y=y, name=name)\n  File \"/Users/josebermeo/miniconda2/envs/deep_voice_2/lib/python2.7/site-packages/tensorflow/python/framework/op_def_library.py\", line 767, in apply_op\n    op_def=op_def)\n  File \"/Users/josebermeo/miniconda2/envs/deep_voice_2/lib/python2.7/site-packages/tensorflow/python/framework/ops.py\", line 2630, in create_op\n    original_op=self._default_original_op, op_def=op_def)\n  File \"/Users/josebermeo/miniconda2/envs/deep_voice_2/lib/python2.7/site-packages/tensorflow/python/framework/ops.py\", line 1204, in __init__\n    self._traceback = self._graph._extract_stack()  # pylint: disable=protected-access\n\nInvalidArgumentError (see above for traceback): Incompatible shapes: [2,10,20,8] vs. [2,8]\n\t [[Node: encoder/conv_layers/conv_layer_1/mul = Mul[T=DT_FLOAT, _device=\"/job:localhost/replica:0/task:0/cpu:0\"](encoder/conv_layers/conv_layer_1/bn/batchnorm/add_1, encoder/dense/Softsign)]]\n"
     ]
    }
   ],
   "source": [
    "with tf.Session() as sess:\n",
    "\n",
    "    model = SegmentationModel(\n",
    "        output_vocab_size, num_speakers, model_parameters,\n",
    "    )\n",
    "    \n",
    "    frequencies = tf.placeholder(tf.float32, [None, None, n_mels])\n",
    "    frequencies_seq_len = tf.placeholder(tf.int32, [None])\n",
    "    speaker_ids = tf.placeholder(tf.int32, [None])\n",
    "    phonemes = tf.sparse_placeholder(tf.int32)\n",
    "    \n",
    "    \n",
    "    train_op_tf, loss_tf, global_step_tf, summary_tf = model.build_train_operations(\n",
    "        frequencies, frequencies_seq_len,\n",
    "        speaker_ids,\n",
    "        phonemes,\n",
    "        train_parameters\n",
    "    )\n",
    "    \n",
    "    predictor_frequencies = tf.placeholder(tf.float32, [None, None, n_mels])\n",
    "    predictor_frequencies_seq_len = tf.placeholder(tf.int32, [None])\n",
    "    predictor_speaker_ids = tf.placeholder(tf.int32, [None])\n",
    "    \n",
    "    greedy_predictor_tf = model.build_greedy_predictor(\n",
    "        predictor_frequencies, predictor_frequencies_seq_len, predictor_speaker_ids, True\n",
    "    )\n",
    "    \n",
    "    beam_predictor_tf = model.build_beam_search_predictor(\n",
    "        predictor_frequencies, predictor_frequencies_seq_len, predictor_speaker_ids,\n",
    "        num_beams, True\n",
    "    )\n",
    "\n",
    "    train_writer = tf.summary.FileWriter('../log/train_grapheme_to_phoneme_model_notebook/train', sess.graph)\n",
    "    \n",
    "    tf.global_variables_initializer().run()\n",
    "    coord = tf.train.Coordinator()\n",
    "    threads = tf.train.start_queue_runners(sess=sess, coord=coord)\n",
    "\n",
    "    saver = tf.train.Saver(max_to_keep=3, keep_checkpoint_every_n_hours=3)\n",
    "    \n",
    "    for _ in xrange(num_steps):\n",
    "        \n",
    "        target_indices=[[0, 0], [0, 1], [0, 2], [1, 0], [1, 1], [1, 2]]\n",
    "        target_values=[1, 2, 3, 4, 5, 6]\n",
    "        dense_shape=[2, 4]\n",
    "        \n",
    "        out = sess.run([\n",
    "            train_op_tf,\n",
    "            global_step_tf,\n",
    "            loss_tf,\n",
    "            summary_tf\n",
    "        ], feed_dict={\n",
    "            frequencies: np.random.rand(2, 10, 20),\n",
    "            frequencies_seq_len: 8* np.ones(2),\n",
    "            speaker_ids: 2 * np.ones((2)),\n",
    "            phonemes:(target_indices,target_values, dense_shape)\n",
    "        })\n",
    "\n",
    "        _, global_step, loss, summary  = out\n",
    "        \n",
    "        print global_step\n",
    "        print loss\n",
    "\n",
    "        train_writer.add_summary(summary, global_step)\n",
    "\n",
    "        # detect gradient explosion\n",
    "        if loss > 1e8 and global_step > 500:\n",
    "            print('loss exploded')\n",
    "            break\n",
    "\n",
    "        if global_step % save_energy == 0 and global_step != 0:\n",
    "\n",
    "            print('saving weights')\n",
    "            if not os.path.exists('../weights/train_grapheme_to_phoneme_model_notebook/'):\n",
    "                os.makedirs('../weights/train_grapheme_to_phoneme_model_notebook/')\n",
    "            saver.save(sess, '../weights/train_grapheme_to_phoneme_model_notebook/', global_step=global_step)\n",
    "    \n",
    "    coord.request_stop()\n",
    "    coord.join(threads)"
   ]
  },
  {
   "cell_type": "code",
   "execution_count": null,
   "metadata": {
    "collapsed": true
   },
   "outputs": [],
   "source": []
  }
 ],
 "metadata": {
  "kernelspec": {
   "display_name": "Python 2",
   "language": "python",
   "name": "python2"
  },
  "language_info": {
   "codemirror_mode": {
    "name": "ipython",
    "version": 2
   },
   "file_extension": ".py",
   "mimetype": "text/x-python",
   "name": "python",
   "nbconvert_exporter": "python",
   "pygments_lexer": "ipython2",
   "version": "2.7.13"
  }
 },
 "nbformat": 4,
 "nbformat_minor": 2
}
