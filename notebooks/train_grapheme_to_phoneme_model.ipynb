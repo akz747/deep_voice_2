{
 "cells": [
  {
   "cell_type": "code",
   "execution_count": 1,
   "metadata": {
    "collapsed": true
   },
   "outputs": [],
   "source": [
    "import sys\n",
    "sys.path.append(\"..\")"
   ]
  },
  {
   "cell_type": "code",
   "execution_count": 2,
   "metadata": {
    "collapsed": true
   },
   "outputs": [],
   "source": [
    "import os\n",
    "from utils.dataset_utils import build_dataset\n",
    "from models.grapheme_to_phoneme import GraphemeToPhoneme\n",
    "import tensorflow as tf\n",
    "import numpy as np\n",
    "import pickle"
   ]
  },
  {
   "cell_type": "markdown",
   "metadata": {},
   "source": [
    "# Load data"
   ]
  },
  {
   "cell_type": "code",
   "execution_count": 3,
   "metadata": {
    "collapsed": true
   },
   "outputs": [],
   "source": [
    "with open(\"../data/cmu.pkl\", 'r') as read_file:\n",
    "    meta = pickle.load(read_file)\n",
    "char2id = meta[\"char2id\"]\n",
    "id2char = meta[\"id2char\"]\n",
    "phoneme2id = meta[\"phoneme2id\"]\n",
    "id2phoneme = meta[\"id2phoneme\"]"
   ]
  },
  {
   "cell_type": "code",
   "execution_count": 4,
   "metadata": {
    "collapsed": true
   },
   "outputs": [],
   "source": [
    "data = np.load(\"../data/cmu_data.npz\")"
   ]
  },
  {
   "cell_type": "markdown",
   "metadata": {},
   "source": [
    "# Define parametes"
   ]
  },
  {
   "cell_type": "code",
   "execution_count": 5,
   "metadata": {
    "collapsed": true
   },
   "outputs": [],
   "source": [
    "train_parameters = {\n",
    "    \"lr\": 0.001,\n",
    "    \"decay_steps\": 1000,\n",
    "    \"decay_rate\": 0.85,\n",
    "    \"batch_size\": 2\n",
    "}\n",
    "\n",
    "model_parameters = {\n",
    "  \"embedding_size\": 80,\n",
    "  \"num_units\": 10,\n",
    "  \"num_layers\": 2,\n",
    "  \"dropout_prob\": 0.95,\n",
    "  \"num_beams\": 1\n",
    "}\n",
    "\n",
    "input_vocab_size = len(char2id)\n",
    "output_vocab_size= len(phoneme2id)\n",
    "\n",
    "shuffle_buffer_size = 1000\n",
    "\n",
    "end_token = phoneme2id[\"<eos>\"]\n",
    "\n",
    "num_steps = 2\n",
    "\n",
    "save_energy = 2"
   ]
  },
  {
   "cell_type": "markdown",
   "metadata": {},
   "source": [
    "# Train model"
   ]
  },
  {
   "cell_type": "code",
   "execution_count": 6,
   "metadata": {},
   "outputs": [
    {
     "name": "stdout",
     "output_type": "stream",
     "text": [
      "saving weights\n"
     ]
    }
   ],
   "source": [
    "with tf.Session() as sess:\n",
    "    dataset = build_dataset(\n",
    "        sess,\n",
    "        (data[\"X\"], data[\"X_seq_len\"],data[\"Y\"], data[\"Y_seq_len\"]),\n",
    "        (\"X\", \"X_seq_len\", \"Y\", \"Y_seq_len\"),\n",
    "        train_parameters[\"batch_size\"],\n",
    "        shuffle_buffer_size\n",
    "    )\n",
    "    \n",
    "    model = GraphemeToPhoneme(\n",
    "        dataset[\"X\"], dataset[\"X_seq_len\"], input_vocab_size,\n",
    "        output_vocab_size, end_token, model_parameters,\n",
    "        dataset[\"Y\"], dataset[\"Y_seq_len\"], train_parameters\n",
    "    )\n",
    "\n",
    "    train_writer = tf.summary.FileWriter('../log/train_grapheme_to_phoneme_model_notebook/train', sess.graph)\n",
    "    \n",
    "    tf.global_variables_initializer().run()\n",
    "    coord = tf.train.Coordinator()\n",
    "    threads = tf.train.start_queue_runners(sess=sess, coord=coord)\n",
    "\n",
    "    saver = tf.train.Saver(max_to_keep=3, keep_checkpoint_every_n_hours=3)\n",
    "    \n",
    "    for _ in xrange(num_steps):\n",
    "        out = sess.run([\n",
    "            model.train_op,\n",
    "            model.global_step,\n",
    "            model.loss,\n",
    "            model.summary,\n",
    "            dataset,\n",
    "        ])\n",
    "        _, global_step, loss, summary, _ = out\n",
    "\n",
    "        train_writer.add_summary(summary, global_step)\n",
    "\n",
    "        # detect gradient explosion\n",
    "        if loss > 1e8 and global_step > 500:\n",
    "            print('loss exploded')\n",
    "            break\n",
    "\n",
    "        if global_step % save_energy == 0 and global_step != 0:\n",
    "\n",
    "            print('saving weights')\n",
    "            if not os.path.exists('../weights/train_grapheme_to_phoneme_model_notebook/'):\n",
    "                os.makedirs('../weights/train_grapheme_to_phoneme_model_notebook/')\n",
    "            saver.save(sess, '../weights/train_grapheme_to_phoneme_model_notebook/', global_step=global_step)\n",
    "    \n",
    "    coord.request_stop()\n",
    "    coord.join(threads)"
   ]
  },
  {
   "cell_type": "code",
   "execution_count": null,
   "metadata": {
    "collapsed": true
   },
   "outputs": [],
   "source": []
  }
 ],
 "metadata": {
  "kernelspec": {
   "display_name": "Python 2",
   "language": "python",
   "name": "python2"
  },
  "language_info": {
   "codemirror_mode": {
    "name": "ipython",
    "version": 2
   },
   "file_extension": ".py",
   "mimetype": "text/x-python",
   "name": "python",
   "nbconvert_exporter": "python",
   "pygments_lexer": "ipython2",
   "version": "2.7.13"
  }
 },
 "nbformat": 4,
 "nbformat_minor": 2
}
