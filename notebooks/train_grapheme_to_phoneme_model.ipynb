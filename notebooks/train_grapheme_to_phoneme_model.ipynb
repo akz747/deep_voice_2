{
 "cells": [
  {
   "cell_type": "code",
   "execution_count": 1,
   "metadata": {
    "collapsed": true
   },
   "outputs": [],
   "source": [
    "import sys\n",
    "sys.path.append(\"..\")"
   ]
  },
  {
   "cell_type": "code",
   "execution_count": 2,
   "metadata": {
    "collapsed": true
   },
   "outputs": [],
   "source": [
    "import os\n",
    "from models.grapheme_to_phoneme import GraphemeToPhoneme\n",
    "import tensorflow as tf\n",
    "import numpy as np"
   ]
  },
  {
   "cell_type": "markdown",
   "metadata": {},
   "source": [
    "# Define parametes"
   ]
  },
  {
   "cell_type": "code",
   "execution_count": 3,
   "metadata": {
    "collapsed": true
   },
   "outputs": [],
   "source": [
    "train_parameters = {\n",
    "    \"lr\": 0.001,\n",
    "    \"decay_steps\": 1000,\n",
    "    \"decay_rate\": 0.85,\n",
    "    \"dropout_prob\": 0.95\n",
    "}\n",
    "\n",
    "model_parameters = {\n",
    "  \"embedding_size\": 80,\n",
    "  \"num_units\": 10,\n",
    "  \"num_layers\": 2,\n",
    "  \"num_beams\": 1\n",
    "}\n",
    "\n",
    "input_vocab_size = 10\n",
    "output_vocab_size= 11\n",
    "\n",
    "end_token = 10\n",
    "\n",
    "num_steps = 2\n",
    "\n",
    "save_energy = 2"
   ]
  },
  {
   "cell_type": "markdown",
   "metadata": {},
   "source": [
    "# Train model"
   ]
  },
  {
   "cell_type": "code",
   "execution_count": 4,
   "metadata": {},
   "outputs": [
    {
     "name": "stdout",
     "output_type": "stream",
     "text": [
      "saving weights\n"
     ]
    }
   ],
   "source": [
    "with tf.Session() as sess:\n",
    "    characters = tf.placeholder(tf.int32, [None, 200])\n",
    "    characters_seq_len = tf.placeholder(tf.int32, [None])\n",
    "    phonemes = tf.placeholder(tf.int32, [None, 200])\n",
    "    phonemes_seq_len = tf.placeholder(tf.int32, [None])\n",
    "    \n",
    "    prediction_characters = tf.placeholder(tf.int32, [None, 200])\n",
    "    prediction_characters_seq_len = tf.placeholder(tf.int32, [None])\n",
    "    \n",
    "    model = GraphemeToPhoneme(input_vocab_size, output_vocab_size, end_token, model_parameters)\n",
    "    \n",
    "    train_op_tf, loss_tf, global_step_tf, summary_tf, decoder_output_tf = model.build_train_operations(\n",
    "        characters, characters_seq_len, phonemes, phonemes_seq_len, train_parameters\n",
    "    )\n",
    "    \n",
    "    prediction_tf = model.build_prediction(prediction_characters, prediction_characters_seq_len, True)\n",
    "\n",
    "    train_writer = tf.summary.FileWriter('../log/train_grapheme_to_phoneme_model_notebook/train', sess.graph)\n",
    "    \n",
    "    tf.global_variables_initializer().run()\n",
    "    coord = tf.train.Coordinator()\n",
    "    threads = tf.train.start_queue_runners(sess=sess, coord=coord)\n",
    "\n",
    "    saver = tf.train.Saver(max_to_keep=3, keep_checkpoint_every_n_hours=3)\n",
    "    \n",
    "    for _ in xrange(num_steps):\n",
    "        out = sess.run([\n",
    "            train_op_tf,\n",
    "            global_step_tf,\n",
    "            loss_tf,\n",
    "            summary_tf,\n",
    "            decoder_output_tf,\n",
    "        ], feed_dict={\n",
    "            characters: np.random.rand(2, 200),\n",
    "            characters_seq_len: 10* np.ones((2)),\n",
    "            phonemes: np.random.rand(2, 200),\n",
    "            phonemes_seq_len: 8* np.ones((2))\n",
    "        })\n",
    "        _, global_step, loss, summary, _ = out\n",
    "\n",
    "        train_writer.add_summary(summary, global_step)\n",
    "\n",
    "        # detect gradient explosion\n",
    "        if loss > 1e8 and global_step > 500:\n",
    "            print('loss exploded')\n",
    "            break\n",
    "\n",
    "        if global_step % save_energy == 0 and global_step != 0:\n",
    "\n",
    "            print('saving weights')\n",
    "            if not os.path.exists('../weights/train_grapheme_to_phoneme_model_notebook/'):\n",
    "                os.makedirs('../weights/train_grapheme_to_phoneme_model_notebook/')\n",
    "            saver.save(sess, '../weights/train_grapheme_to_phoneme_model_notebook/', global_step=global_step)\n",
    "    \n",
    "    coord.request_stop()\n",
    "    coord.join(threads)"
   ]
  },
  {
   "cell_type": "code",
   "execution_count": null,
   "metadata": {
    "collapsed": true
   },
   "outputs": [],
   "source": []
  }
 ],
 "metadata": {
  "kernelspec": {
   "display_name": "Python 2",
   "language": "python",
   "name": "python2"
  },
  "language_info": {
   "codemirror_mode": {
    "name": "ipython",
    "version": 2
   },
   "file_extension": ".py",
   "mimetype": "text/x-python",
   "name": "python",
   "nbconvert_exporter": "python",
   "pygments_lexer": "ipython2",
   "version": "2.7.13"
  }
 },
 "nbformat": 4,
 "nbformat_minor": 2
}
